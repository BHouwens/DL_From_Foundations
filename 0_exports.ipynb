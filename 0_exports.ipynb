{
  "nbformat": 4,
  "nbformat_minor": 0,
  "metadata": {
    "colab": {
      "name": "0-exports.ipynb",
      "provenance": [],
      "authorship_tag": "ABX9TyNQS9G49lG+4p0ZQVWEqFv7"
    },
    "kernelspec": {
      "name": "python3",
      "display_name": "Python 3"
    },
    "language_info": {
      "name": "python"
    },
    "accelerator": "GPU"
  },
  "cells": [
    {
      "cell_type": "code",
      "metadata": {
        "id": "g9Sg3Vfl5kwu"
      },
      "source": [
        "#export\n",
        "TEST = \"test\""
      ],
      "execution_count": 1,
      "outputs": []
    },
    {
      "cell_type": "markdown",
      "metadata": {
        "id": "l7J6ZAAl8CKo"
      },
      "source": [
        "## Export Test\n",
        "\n"
      ]
    },
    {
      "cell_type": "code",
      "metadata": {
        "colab": {
          "base_uri": "https://localhost:8080/"
        },
        "id": "Gz6fPzXu8MAN",
        "outputId": "19b59020-f71b-4f4a-f635-088d3077ce4e"
      },
      "source": [
        "!python notebook2script.py 00_exports.ipynb"
      ],
      "execution_count": 2,
      "outputs": [
        {
          "output_type": "stream",
          "text": [
            "python3: can't open file 'notebook2script.py': [Errno 2] No such file or directory\n"
          ],
          "name": "stdout"
        }
      ]
    }
  ]
}