{
 "cells": [
  {
   "cell_type": "code",
   "execution_count": 1,
   "metadata": {
    "id": "g9Sg3Vfl5kwu"
   },
   "outputs": [],
   "source": [
    "#export\n",
    "TEST = \"test\""
   ]
  },
  {
   "cell_type": "markdown",
   "metadata": {
    "id": "l7J6ZAAl8CKo"
   },
   "source": [
    "## Export Test\n",
    "\n"
   ]
  },
  {
   "cell_type": "code",
   "execution_count": 5,
   "metadata": {
    "colab": {
     "base_uri": "https://localhost:8080/"
    },
    "id": "Gz6fPzXu8MAN",
    "outputId": "19b59020-f71b-4f4a-f635-088d3077ce4e",
    "scrolled": true
   },
   "outputs": [
    {
     "name": "stdout",
     "output_type": "stream",
     "text": [
      "Converted 0_exports.ipynb to exp/nb_0.py\r\n"
     ]
    }
   ],
   "source": [
    "!python3 notebook2script.py 0_exports.ipynb"
   ]
  },
  {
   "cell_type": "markdown",
   "metadata": {},
   "source": [
    "This uses `notebook2script.py` from Jeremy Howard, a handy util for converting `#export` marked cells in a Jupyter notebook into executable Python scripts"
   ]
  },
  {
   "cell_type": "code",
   "execution_count": null,
   "metadata": {},
   "outputs": [],
   "source": []
  }
 ],
 "metadata": {
  "accelerator": "GPU",
  "colab": {
   "authorship_tag": "ABX9TyNQS9G49lG+4p0ZQVWEqFv7",
   "name": "0-exports.ipynb",
   "provenance": []
  },
  "kernelspec": {
   "display_name": "Python 3",
   "language": "python",
   "name": "python3"
  },
  "language_info": {
   "codemirror_mode": {
    "name": "ipython",
    "version": 3
   },
   "file_extension": ".py",
   "mimetype": "text/x-python",
   "name": "python",
   "nbconvert_exporter": "python",
   "pygments_lexer": "ipython3",
   "version": "3.7.10"
  }
 },
 "nbformat": 4,
 "nbformat_minor": 1
}
