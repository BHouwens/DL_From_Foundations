{
 "cells": [
  {
   "cell_type": "code",
   "execution_count": null,
   "metadata": {},
   "outputs": [],
   "source": [
    "# export\n",
    "TEST = \"test\""
   ]
  },
  {
   "cell_type": "markdown",
   "metadata": {
    "id": "l7J6ZAAl8CKo"
   },
   "source": [
    "## Export Test\n",
    "\n"
   ]
  },
  {
   "cell_type": "code",
   "execution_count": 3,
   "metadata": {},
   "outputs": [],
   "source": [
    "# export\n",
    "COLOURS = {\n",
    "    'Reset': \"\\x1b[0m\",\n",
    "    'Bright': \"\\x1b[1m\",\n",
    "    'Dim': \"\\x1b[2m\",\n",
    "    'Underscore': \"\\x1b[4m\",\n",
    "    'Blink': \"\\x1b[5m\",\n",
    "    'Reverse': \"\\x1b[7m\",\n",
    "    'Hidden': \"\\x1b[8m\",\n",
    "    'FgBlack': \"\\x1b[30m\",\n",
    "    'FgRed': \"\\x1b[31m\",\n",
    "    'FgGreen': \"\\x1b[32m\",\n",
    "    'FgYellow': \"\\x1b[33m\",\n",
    "    'FgBlue': \"\\x1b[34m\",\n",
    "    'FgMagenta': \"\\x1b[35m\",\n",
    "    'FgCyan': \"\\x1b[36m\",\n",
    "    'FgWhite': \"\\x1b[37m\",\n",
    "    'BgBlack': \"\\x1b[40m\",\n",
    "    'BgRed': \"\\x1b[41m\",\n",
    "    'BgGreen': \"\\x1b[42m\",\n",
    "    'BgYellow': \"\\x1b[43m\",\n",
    "    'BgBlue': \"\\x1b[44m\",\n",
    "    'BgMagenta': \"\\x1b[45m\",\n",
    "    'BgCyan': \"\\x1b[46m\",\n",
    "    'BgWhite': \"\\x1b[47m\"\n",
    "}\n",
    "\n",
    "def pretty_log(s, log_t = 'info'):\n",
    "  colour = COLOURS['FgBlue']\n",
    "\n",
    "  if log_t == 'error':\n",
    "    colour = COLOURS['FgRed']\n",
    "\n",
    "  print(\"\\n{c}#==== {s} ====#{r}\\n\".format(c=colour, s=s, r=COLOURS['Reset']))"
   ]
  },
  {
   "cell_type": "markdown",
   "metadata": {},
   "source": [
    "This uses `notebook2script.py` from Jeremy Howard, a handy util for converting `#export` marked cells in a Jupyter notebook into executable Python scripts"
   ]
  },
  {
   "cell_type": "code",
   "execution_count": 6,
   "metadata": {
    "colab": {
     "base_uri": "https://localhost:8080/"
    },
    "id": "Gz6fPzXu8MAN",
    "outputId": "19b59020-f71b-4f4a-f635-088d3077ce4e",
    "scrolled": true
   },
   "outputs": [
    {
     "name": "stdout",
     "output_type": "stream",
     "text": [
      "Converted 0_exports.ipynb to exp/nb_0.py\r\n"
     ]
    }
   ],
   "source": [
    "!python3 notebook2script.py 0_exports.ipynb"
   ]
  },
  {
   "cell_type": "code",
   "execution_count": null,
   "metadata": {},
   "outputs": [],
   "source": []
  }
 ],
 "metadata": {
  "accelerator": "GPU",
  "colab": {
   "authorship_tag": "ABX9TyNQS9G49lG+4p0ZQVWEqFv7",
   "name": "0-exports.ipynb",
   "provenance": []
  },
  "kernelspec": {
   "display_name": "Python 3",
   "language": "python",
   "name": "python3"
  },
  "language_info": {
   "codemirror_mode": {
    "name": "ipython",
    "version": 3
   },
   "file_extension": ".py",
   "mimetype": "text/x-python",
   "name": "python",
   "nbconvert_exporter": "python",
   "pygments_lexer": "ipython3",
   "version": "3.8.10"
  }
 },
 "nbformat": 4,
 "nbformat_minor": 1
}
