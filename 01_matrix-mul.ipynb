{
  "nbformat": 4,
  "nbformat_minor": 5,
  "metadata": {
    "kernelspec": {
      "display_name": "fastai",
      "language": "python",
      "name": "fastai"
    },
    "language_info": {
      "codemirror_mode": {
        "name": "ipython",
        "version": 3
      },
      "file_extension": ".py",
      "mimetype": "text/x-python",
      "name": "python",
      "nbconvert_exporter": "python",
      "pygments_lexer": "ipython3",
      "version": "3.7.10"
    },
    "colab": {
      "name": "01_matrix-mul.ipynb",
      "provenance": [],
      "toc_visible": true
    }
  },
  "cells": [
    {
      "cell_type": "markdown",
      "metadata": {
        "id": "0821eb00"
      },
      "source": [
        "# **Matrix Multiplication from the Foundations**\n",
        "\n",
        "This notebook will setup all our required matrix multiplication code."
      ],
      "id": "0821eb00"
    },
    {
      "cell_type": "markdown",
      "metadata": {
        "id": "PRlcNYzz1Vze"
      },
      "source": [
        "## **Colab Setup**"
      ],
      "id": "PRlcNYzz1Vze"
    },
    {
      "cell_type": "markdown",
      "metadata": {
        "id": "bjjnCKH11X0l"
      },
      "source": [
        "The setup structure for this will depend on the environment. I'm assuming a Google Colab environment in this case, which will require the following setup from the Github repo, and assumes that the repo has already been cloned into Google Drive:"
      ],
      "id": "bjjnCKH11X0l"
    },
    {
      "cell_type": "code",
      "metadata": {
        "id": "lizDqMGP1Aj2",
        "colab": {
          "base_uri": "https://localhost:8080/"
        },
        "outputId": "ca392385-d63f-4863-adfe-f23eb5763741"
      },
      "source": [
        "from google.colab import drive\n",
        "drive.mount('/content/gdrive')\n",
        "\n",
        "%cd gdrive/My Drive/git_folder/DL_From_Foundations\n",
        "! git pull"
      ],
      "id": "lizDqMGP1Aj2",
      "execution_count": 1,
      "outputs": [
        {
          "output_type": "stream",
          "text": [
            "Mounted at /content/gdrive\n",
            "/content/gdrive/My Drive/git_folder/DL_From_Foundations\n",
            "remote: Enumerating objects: 8, done.\u001b[K\n",
            "remote: Counting objects: 100% (8/8), done.\u001b[K\n",
            "remote: Compressing objects: 100% (6/6), done.\u001b[K\n",
            "remote: Total 6 (delta 4), reused 0 (delta 0), pack-reused 0\u001b[K\n",
            "Unpacking objects: 100% (6/6), done.\n",
            "From https://github.com/BHouwens/DL_From_Foundations\n",
            "   91f7e9c..ce3d8b6  main       -> origin/main\n",
            "Updating 91f7e9c..ce3d8b6\n",
            "Fast-forward\n",
            " 01_matrix-mul.ipynb | 600 \u001b[32m++++++++++++++++++++++++++++++++++++++++++++\u001b[m\u001b[31m--------\u001b[m\n",
            " 1 file changed, 515 insertions(+), 85 deletions(-)\n"
          ],
          "name": "stdout"
        }
      ]
    },
    {
      "cell_type": "markdown",
      "metadata": {
        "id": "1dd706ed"
      },
      "source": [
        "## **Testing Imports**"
      ],
      "id": "1dd706ed"
    },
    {
      "cell_type": "markdown",
      "metadata": {
        "id": "lBrdR_af2PMC"
      },
      "source": [
        "This section is to test outputs from notebook to Python script conversion. It's not necessary to run this stuff if imports are going to be ignored."
      ],
      "id": "lBrdR_af2PMC"
    },
    {
      "cell_type": "code",
      "metadata": {
        "id": "6fdf1a03"
      },
      "source": [
        "%load_ext autoreload\n",
        "%autoreload 2\n",
        "\n",
        "%matplotlib inline"
      ],
      "id": "6fdf1a03",
      "execution_count": 2,
      "outputs": []
    },
    {
      "cell_type": "code",
      "metadata": {
        "id": "1e8b00d1"
      },
      "source": [
        "from exp.nb_0 import *\n",
        "import operator"
      ],
      "id": "1e8b00d1",
      "execution_count": 3,
      "outputs": []
    },
    {
      "cell_type": "code",
      "metadata": {
        "id": "OJUw4f9amlRn"
      },
      "source": [
        "#export\n",
        "def test(a,b,cmp,cname=None):\n",
        "    if cname is None: cname=cmp.__name__\n",
        "    assert cmp(a,b),f\"{cname}:\\n{a}\\n{b}\"\n",
        "\n",
        "def test_eq(a,b): test(a,b,operator.eq,'==')"
      ],
      "id": "OJUw4f9amlRn",
      "execution_count": null,
      "outputs": []
    },
    {
      "cell_type": "markdown",
      "metadata": {
        "id": "0ea033ba"
      },
      "source": [
        "A simple test can be run using this little unit test util. Example with the `TEST` output:"
      ],
      "id": "0ea033ba"
    },
    {
      "cell_type": "code",
      "metadata": {
        "id": "20ec798d"
      },
      "source": [
        "test_eq(TEST,'test')"
      ],
      "id": "20ec798d",
      "execution_count": null,
      "outputs": []
    },
    {
      "cell_type": "markdown",
      "metadata": {
        "id": "XQUZ0Iui74DX"
      },
      "source": [
        "And another test using `pretty_log`:"
      ],
      "id": "XQUZ0Iui74DX"
    },
    {
      "cell_type": "code",
      "metadata": {
        "colab": {
          "base_uri": "https://localhost:8080/"
        },
        "id": "J2j934h479es",
        "outputId": "093dbdb4-3590-42b6-a269-32931b574c30"
      },
      "source": [
        "pretty_log(\"Hello World\")"
      ],
      "id": "J2j934h479es",
      "execution_count": null,
      "outputs": [
        {
          "output_type": "stream",
          "text": [
            "\n",
            "\u001b[34m#==== Hello World ====#\u001b[0m\n",
            "\n"
          ],
          "name": "stdout"
        }
      ]
    },
    {
      "cell_type": "code",
      "metadata": {
        "id": "06e6b85d"
      },
      "source": [
        "# To run tests in console:\n",
        "# !python3 run_notebook.py 01_matrix-mul.ipynb"
      ],
      "id": "06e6b85d",
      "execution_count": null,
      "outputs": []
    },
    {
      "cell_type": "markdown",
      "metadata": {
        "id": "jaFo4jvolxmM"
      },
      "source": [
        "\n",
        "\n",
        "---\n",
        "\n"
      ],
      "id": "jaFo4jvolxmM"
    },
    {
      "cell_type": "markdown",
      "metadata": {
        "id": "0863fd78"
      },
      "source": [
        "\n",
        "## **Getting the Data**"
      ],
      "id": "0863fd78"
    },
    {
      "cell_type": "code",
      "metadata": {
        "id": "e517ee32"
      },
      "source": [
        "#export\n",
        "from pathlib import Path\n",
        "from IPython.core.debugger import set_trace\n",
        "from fastai import datasets\n",
        "import pickle, gzip, math, torch, matplotlib as mpl\n",
        "import matplotlib.pyplot as plt\n",
        "from torch import tensor\n",
        "\n",
        "MNIST_URL='https://ndownloader.figshare.com/files/25635053'"
      ],
      "id": "e517ee32",
      "execution_count": 4,
      "outputs": []
    },
    {
      "cell_type": "markdown",
      "metadata": {
        "id": "32f97109"
      },
      "source": [
        "Now we can try to download the MNIST dataset through the URL:"
      ],
      "id": "32f97109"
    },
    {
      "cell_type": "code",
      "metadata": {
        "id": "0d15ad28",
        "colab": {
          "base_uri": "https://localhost:8080/"
        },
        "outputId": "6eb2493c-785c-4ada-8285-ffd8bfa9150f"
      },
      "source": [
        "path = datasets.download_data(MNIST_URL, ext='.gz'); path"
      ],
      "id": "0d15ad28",
      "execution_count": 5,
      "outputs": [
        {
          "output_type": "stream",
          "text": [
            "Downloading https://ndownloader.figshare.com/files/25635053.gz\n"
          ],
          "name": "stdout"
        },
        {
          "output_type": "execute_result",
          "data": {
            "text/plain": [
              "PosixPath('/root/.fastai/data/25635053.gz')"
            ]
          },
          "metadata": {
            "tags": []
          },
          "execution_count": 5
        }
      ]
    },
    {
      "cell_type": "markdown",
      "metadata": {
        "id": "sWzrKePV2rot"
      },
      "source": [
        "Once the data has been downloaded we can unzip and check it out in tensor form. Note that Pytorch tensors follow very much the Numpy array structure and utility."
      ],
      "id": "sWzrKePV2rot"
    },
    {
      "cell_type": "code",
      "metadata": {
        "id": "spu7TCbr20of",
        "colab": {
          "base_uri": "https://localhost:8080/"
        },
        "outputId": "e0f4e0b4-dbce-473b-b158-c0e0c4a95e9f"
      },
      "source": [
        "from keras.datasets import mnist\n",
        "\n",
        "# Load the data into the train and validation sets\n",
        "(x_train, y_train), (x_valid, y_valid) = mnist.load_data()\n",
        "\n",
        "# Map the sets to tensors\n",
        "x_train,y_train,x_valid,y_valid = map(tensor, (x_train,y_train,x_valid,y_valid))\n",
        "\n",
        "# Flatten the 28 * 28 to match the course\n",
        "x_train = torch.flatten(x_train, 1)\n",
        "x_valid = torch.flatten(x_valid, 1)\n",
        "\n",
        "n, c = x_train.shape\n",
        "\n",
        "# Let's see the shapes\n",
        "pretty_log(\"X train data\")\n",
        "print(x_train[0][:28])\n",
        "print(n)\n",
        "\n",
        "pretty_log(\"Y vector dependent\")\n",
        "print(y_train)\n",
        "print(y_train.shape) \n",
        "\n",
        "pretty_log(\"Y min\")\n",
        "print(y_train.min())\n",
        "\n",
        "pretty_log(\"Y max\")\n",
        "y_train.max()"
      ],
      "id": "spu7TCbr20of",
      "execution_count": 6,
      "outputs": [
        {
          "output_type": "stream",
          "text": [
            "Downloading data from https://storage.googleapis.com/tensorflow/tf-keras-datasets/mnist.npz\n",
            "11493376/11490434 [==============================] - 0s 0us/step\n",
            "\n",
            "\u001b[34m#==== X train data ====#\u001b[0m\n",
            "\n",
            "tensor([0, 0, 0, 0, 0, 0, 0, 0, 0, 0, 0, 0, 0, 0, 0, 0, 0, 0, 0, 0, 0, 0, 0, 0,\n",
            "        0, 0, 0, 0], dtype=torch.uint8)\n",
            "60000\n",
            "\n",
            "\u001b[34m#==== Y vector dependent ====#\u001b[0m\n",
            "\n",
            "tensor([5, 0, 4,  ..., 5, 6, 8], dtype=torch.uint8)\n",
            "torch.Size([60000])\n",
            "\n",
            "\u001b[34m#==== Y min ====#\u001b[0m\n",
            "\n",
            "tensor(0, dtype=torch.uint8)\n",
            "\n",
            "\u001b[34m#==== Y max ====#\u001b[0m\n",
            "\n"
          ],
          "name": "stdout"
        },
        {
          "output_type": "execute_result",
          "data": {
            "text/plain": [
              "tensor(9, dtype=torch.uint8)"
            ]
          },
          "metadata": {
            "tags": []
          },
          "execution_count": 6
        }
      ]
    },
    {
      "cell_type": "code",
      "metadata": {
        "id": "i5rStTdH8SnE"
      },
      "source": [
        "# Let's unit test our expectations\n",
        "assert n==y_train.shape[0]==60000\n",
        "test_eq(c1,28)\n",
        "test_eq(c2,28)\n",
        "test_eq(y_train.min(),0)\n",
        "test_eq(y_train.max(),9)"
      ],
      "id": "i5rStTdH8SnE",
      "execution_count": null,
      "outputs": []
    },
    {
      "cell_type": "markdown",
      "metadata": {
        "id": "EMzyJCd89IlA"
      },
      "source": [
        "We'll set the colour map here and take a look at a sample from our training set. Colourmaps in Matplotlib are often split into several categories based on their function:\n",
        "\n",
        "*   **Sequential**: change in lightness and often saturation of color incrementally, often using a single hue; should be used for representing information that has ordering.\n",
        "\n",
        "*   **Diverging**: change in lightness and possibly saturation of two different colors that meet in the middle at an unsaturated color; should be used when the information being plotted has a critical middle value, such as topography or when the data deviates around zero.\n",
        "\n",
        "*   **Cyclic**: change in lightness of two different colors that meet in the middle and beginning/end at an unsaturated color; should be used for values that wrap around at the endpoints, such as phase angle, wind direction, or time of day.\n",
        "\n",
        "*   **Qualitative**: often are miscellaneous colors; should be used to represent information which does not have ordering or relationships.\n",
        "\n",
        "More info on which `image.cmap` value corresponds to which function can be found in the Matplotlib docs [here](https://matplotlib.org/stable/tutorials/colors/colormaps.html). We'll set this one to `gray`:\n"
      ],
      "id": "EMzyJCd89IlA"
    },
    {
      "cell_type": "code",
      "metadata": {
        "id": "SKq27z9V9xqS"
      },
      "source": [
        "mpl.rcParams['image.cmap'] = 'gray'\n"
      ],
      "id": "SKq27z9V9xqS",
      "execution_count": null,
      "outputs": []
    },
    {
      "cell_type": "markdown",
      "metadata": {
        "id": "3f8H5wEQ90UO"
      },
      "source": [
        "Okay finally on to the training set sample:"
      ],
      "id": "3f8H5wEQ90UO"
    },
    {
      "cell_type": "code",
      "metadata": {
        "id": "DZeBBBnP8fXh",
        "colab": {
          "base_uri": "https://localhost:8080/",
          "height": 333
        },
        "outputId": "58423f3b-d526-433a-c47c-5b48d47089f3"
      },
      "source": [
        "img = x_train[0]\n",
        "\n",
        "# Log type\n",
        "print(img.view(28,28).type())\n",
        "\n",
        "# Show sample\n",
        "pretty_log(\"Image sample\")\n",
        "plt.imshow(img.view((28,28)));"
      ],
      "id": "DZeBBBnP8fXh",
      "execution_count": null,
      "outputs": [
        {
          "output_type": "stream",
          "text": [
            "torch.ByteTensor\n",
            "\n",
            "\u001b[34m#==== Image sample ====#\u001b[0m\n",
            "\n"
          ],
          "name": "stdout"
        },
        {
          "output_type": "display_data",
          "data": {
            "image/png": "[encoded data removed]",
            "text/plain": [
              "<Figure size 432x288 with 1 Axes>"
            ]
          },
          "metadata": {
            "tags": [],
            "needs_background": "light"
          }
        }
      ]
    },
    {
      "cell_type": "markdown",
      "metadata": {
        "id": "iqAiTVxDl2un"
      },
      "source": [
        "\n",
        "   \n",
        "    \n",
        "---\n",
        "\n",
        "\n",
        "\n"
      ],
      "id": "iqAiTVxDl2un"
    },
    {
      "cell_type": "markdown",
      "metadata": {
        "id": "PA1rAkJi-Sfc"
      },
      "source": [
        "## **Initial Model**\n",
        "\n",
        "Let's start with some random initialisation values:"
      ],
      "id": "PA1rAkJi-Sfc"
    },
    {
      "cell_type": "code",
      "metadata": {
        "id": "ulC5Tmay-eLx"
      },
      "source": [
        "weights = torch.randn(784,10)\n",
        "bias = torch.zeros(10)"
      ],
      "id": "ulC5Tmay-eLx",
      "execution_count": 7,
      "outputs": []
    },
    {
      "cell_type": "markdown",
      "metadata": {
        "id": "isJ_orQm-sgK"
      },
      "source": [
        "### **Matrix Multiplication**\n",
        "And now we can begin with our matrix multiplication"
      ],
      "id": "isJ_orQm-sgK"
    },
    {
      "cell_type": "code",
      "metadata": {
        "id": "ejMW3FuY-jps"
      },
      "source": [
        "def matrix_mul(a, b):\n",
        "  a_rows, a_cols = a.shape\n",
        "  b_rows, b_cols = b.shape\n",
        "\n",
        "  # First check that multiplication is possible\n",
        "  assert a_cols == b_rows\n",
        "\n",
        "  # And then update a pytorch tensor from zeros\n",
        "  c = torch.zeros(a_rows, b_cols)\n",
        "\n",
        "  for i in range(a_rows):\n",
        "    for j in range(b_cols):\n",
        "      for k in range(a_cols): # can also be b_rows\n",
        "        c[i, j] += a[i, k] * b[k, j]\n",
        "  \n",
        "  return c"
      ],
      "id": "ejMW3FuY-jps",
      "execution_count": null,
      "outputs": []
    },
    {
      "cell_type": "markdown",
      "metadata": {
        "id": "ZiA1ySxWe3ar"
      },
      "source": [
        "From here we can test against the upcoming weights:"
      ],
      "id": "ZiA1ySxWe3ar"
    },
    {
      "cell_type": "code",
      "metadata": {
        "colab": {
          "base_uri": "https://localhost:8080/"
        },
        "id": "iAzWqnNoe8wW",
        "outputId": "e05d2b05-e174-45d4-c82a-793be2a75307"
      },
      "source": [
        "m1 = x_valid[:5]\n",
        "m2 = weights\n",
        "\n",
        "m1.shape, m2.shape"
      ],
      "id": "iAzWqnNoe8wW",
      "execution_count": 8,
      "outputs": [
        {
          "output_type": "execute_result",
          "data": {
            "text/plain": [
              "(torch.Size([5, 784]), torch.Size([784, 10]))"
            ]
          },
          "metadata": {
            "tags": []
          },
          "execution_count": 8
        }
      ]
    },
    {
      "cell_type": "code",
      "metadata": {
        "colab": {
          "base_uri": "https://localhost:8080/"
        },
        "id": "VqgUFWy7e9kx",
        "outputId": "1ee60147-a3f7-42ab-8a83-47284ddcc578"
      },
      "source": [
        "%time t1 = matrix_mul(m1, m2)"
      ],
      "id": "VqgUFWy7e9kx",
      "execution_count": null,
      "outputs": [
        {
          "output_type": "stream",
          "text": [
            "CPU times: user 694 ms, sys: 678 µs, total: 695 ms\n",
            "Wall time: 706 ms\n"
          ],
          "name": "stdout"
        }
      ]
    },
    {
      "cell_type": "code",
      "metadata": {
        "colab": {
          "base_uri": "https://localhost:8080/"
        },
        "id": "7BnXb-Abk7cE",
        "outputId": "de851dfe-d72f-4eb6-c44e-3cf619ffe07d"
      },
      "source": [
        "t1.shape"
      ],
      "id": "7BnXb-Abk7cE",
      "execution_count": null,
      "outputs": [
        {
          "output_type": "execute_result",
          "data": {
            "text/plain": [
              "torch.Size([5, 10])"
            ]
          },
          "metadata": {
            "tags": []
          },
          "execution_count": 80
        }
      ]
    },
    {
      "cell_type": "markdown",
      "metadata": {
        "id": "2BP-A3x_lNRe"
      },
      "source": [
        "The multiplication works, but it's pretty slow (running on `O(n^2.m)`). We can speed it up using element-wise operations."
      ],
      "id": "2BP-A3x_lNRe"
    },
    {
      "cell_type": "markdown",
      "metadata": {
        "id": "_cPSLXoClYU9"
      },
      "source": [
        "### **Element-wise Ops**\n",
        "\n",
        "Operators (+,-,*,/,>,<,==) are usually element-wise. This is helpful because Python is slow (very slow!), and in order to perform operations which are computationally intensive we need to call Pytorch methods which are lower level (FFI or Cython?). This can be accomplished by making operations happen in an element-wise fashion.\n",
        "\n",
        "Examples of element-wise operations:"
      ],
      "id": "_cPSLXoClYU9"
    },
    {
      "cell_type": "code",
      "metadata": {
        "colab": {
          "base_uri": "https://localhost:8080/"
        },
        "id": "sIhF1OxjmCj5",
        "outputId": "1ba2cc7c-e798-465f-b29f-a71008454387"
      },
      "source": [
        "a = tensor([10., 6, -4])\n",
        "b = tensor([2., 8, 7])\n",
        "a,b"
      ],
      "id": "sIhF1OxjmCj5",
      "execution_count": null,
      "outputs": [
        {
          "output_type": "execute_result",
          "data": {
            "text/plain": [
              "(tensor([10.,  6., -4.]), tensor([2., 8., 7.]))"
            ]
          },
          "metadata": {
            "tags": []
          },
          "execution_count": 81
        }
      ]
    },
    {
      "cell_type": "code",
      "metadata": {
        "colab": {
          "base_uri": "https://localhost:8080/"
        },
        "id": "BYW7wKNamEXg",
        "outputId": "9b46cfa9-81c6-4f0d-d810-c83c73924a71"
      },
      "source": [
        "a + b"
      ],
      "id": "BYW7wKNamEXg",
      "execution_count": null,
      "outputs": [
        {
          "output_type": "execute_result",
          "data": {
            "text/plain": [
              "tensor([12., 14.,  3.])"
            ]
          },
          "metadata": {
            "tags": []
          },
          "execution_count": 82
        }
      ]
    },
    {
      "cell_type": "code",
      "metadata": {
        "colab": {
          "base_uri": "https://localhost:8080/"
        },
        "id": "LB-PfsrxmG99",
        "outputId": "b9d294af-0186-44f7-dc74-f3bd3146d8ca"
      },
      "source": [
        "(a < b).float().mean()"
      ],
      "id": "LB-PfsrxmG99",
      "execution_count": null,
      "outputs": [
        {
          "output_type": "execute_result",
          "data": {
            "text/plain": [
              "tensor(0.6667)"
            ]
          },
          "metadata": {
            "tags": []
          },
          "execution_count": 83
        }
      ]
    },
    {
      "cell_type": "code",
      "metadata": {
        "colab": {
          "base_uri": "https://localhost:8080/"
        },
        "id": "X72wsOWBmI75",
        "outputId": "82bc060b-7eed-46d7-87f4-abe95976e146"
      },
      "source": [
        "m = tensor([[1., 2, 3], [4,5,6], [7,8,9]])\n",
        "m"
      ],
      "id": "X72wsOWBmI75",
      "execution_count": 10,
      "outputs": [
        {
          "output_type": "execute_result",
          "data": {
            "text/plain": [
              "tensor([[1., 2., 3.],\n",
              "        [4., 5., 6.],\n",
              "        [7., 8., 9.]])"
            ]
          },
          "metadata": {
            "tags": []
          },
          "execution_count": 10
        }
      ]
    },
    {
      "cell_type": "markdown",
      "metadata": {
        "id": "_zzods9Goueo"
      },
      "source": [
        "#### **Frobenius Norm**\n",
        "\n",
        "$\\|A\\|_\\text{F} = \\sqrt{\\sum_{i,j=1}^n |a_{ij}|^2}$\n",
        "\n",
        "The Frobenius norm crops up semi-regularly in deep learning literature. It's a formula which performs element-wise multiplication for each element in a  matrix (in this case $R^2$) and takes the form of the above equation.\n",
        "\n",
        "Although it looks scary, the formula can be implemented trivially in code as the following:"
      ],
      "id": "_zzods9Goueo"
    },
    {
      "cell_type": "code",
      "metadata": {
        "id": "4KwUJalCqCKZ"
      },
      "source": [
        "a_f = (m*m).sum().sqrt()"
      ],
      "id": "4KwUJalCqCKZ",
      "execution_count": 11,
      "outputs": []
    },
    {
      "cell_type": "markdown",
      "metadata": {
        "id": "N6id5sIMqg6V"
      },
      "source": [
        "We can use this to reduce the number of computationally intensive loops that need to be performed in our multiplication. Now we can multiply the full axes together (row * col) to get a $R^1$ tensor we can sum:"
      ],
      "id": "N6id5sIMqg6V"
    },
    {
      "cell_type": "code",
      "metadata": {
        "id": "ebxlMohXqnKo"
      },
      "source": [
        "def matrix_mul(a, b):\n",
        "  a_rows, a_cols = a.shape\n",
        "  b_rows, b_cols = b.shape\n",
        "\n",
        "  assert a_cols == b_rows\n",
        "  c = torch.zeros(a_rows, b_cols)\n",
        "\n",
        "  for i in range(a_rows):\n",
        "    for j in range(b_cols):\n",
        "      c[i,j] = (a[i,:] * b[:,j]).sum()\n",
        "  \n",
        "  return c"
      ],
      "id": "ebxlMohXqnKo",
      "execution_count": 50,
      "outputs": []
    },
    {
      "cell_type": "markdown",
      "metadata": {
        "id": "wksfFseDrVL3"
      },
      "source": [
        "Notice the change of `k` value to the full axis in the multiplication step."
      ],
      "id": "wksfFseDrVL3"
    },
    {
      "cell_type": "code",
      "metadata": {
        "colab": {
          "base_uri": "https://localhost:8080/"
        },
        "id": "kFcXaauwraaI",
        "outputId": "e233e03a-2e4b-429e-b157-63be6856a729"
      },
      "source": [
        "%timeit -n 10 _=matrix_mul(m1, m2)"
      ],
      "id": "kFcXaauwraaI",
      "execution_count": 51,
      "outputs": [
        {
          "output_type": "stream",
          "text": [
            "10 loops, best of 5: 1.08 ms per loop\n"
          ],
          "name": "stdout"
        }
      ]
    },
    {
      "cell_type": "markdown",
      "metadata": {
        "id": "n2UC_Q1UsMv7"
      },
      "source": [
        "And check the speed! A huge boost in performance"
      ],
      "id": "n2UC_Q1UsMv7"
    },
    {
      "cell_type": "markdown",
      "metadata": {
        "id": "osxzmzpvkbeG"
      },
      "source": [
        "#### **Broadcasting**\n",
        "\n",
        "The term **broadcasting** describes how arrays with different shapes are treated during arithmetic operations. The term broadcasting was first used by Numpy.\n",
        "\n",
        "From the [Numpy documentation](https://docs.scipy.org/doc/numpy-1.10.0/user/basics.broadcasting.html):\n",
        "\n",
        "> The term broadcasting describes how numpy treats arrays with \n",
        "different shapes during arithmetic operations. Subject to certain \n",
        "constraints, the smaller array is “broadcast” across the larger \n",
        "array so that they have compatible shapes. Broadcasting provides a \n",
        "means of vectorizing array operations so that looping occurs in C\n",
        "instead of Python. It does this without making needless copies of \n",
        "data and usually leads to efficient algorithm implementations.\n",
        "\n",
        "Broadcasting arithmetic operations with a $m$-dimensional array can be performed with a scalar, for example:\n"
      ],
      "id": "osxzmzpvkbeG"
    },
    {
      "cell_type": "code",
      "metadata": {
        "id": "oFUcRHyflJEs",
        "outputId": "ec85b0c7-7d0d-4f29-b215-7154a67a5207",
        "colab": {
          "base_uri": "https://localhost:8080/"
        }
      },
      "source": [
        "from numpy import array\n",
        "\n",
        "a = array([1, 2, 3])\n",
        "pretty_log(\"m-dimensional array\")\n",
        "print(a)\n",
        "\n",
        "b = 2\n",
        "pretty_log(\"scalar\")\n",
        "print(b)\n",
        "\n",
        "# This will work via broadcasting\n",
        "c = a + b\n",
        "pretty_log(\"broadcasting result\")\n",
        "print(c)"
      ],
      "id": "oFUcRHyflJEs",
      "execution_count": 13,
      "outputs": [
        {
          "output_type": "stream",
          "text": [
            "\n",
            "\u001b[34m#==== m-dimensional array ====#\u001b[0m\n",
            "\n",
            "[1 2 3]\n",
            "\n",
            "\u001b[34m#==== scalar ====#\u001b[0m\n",
            "\n",
            "2\n",
            "\n",
            "\u001b[34m#==== broadcasting result ====#\u001b[0m\n",
            "\n",
            "[3 4 5]\n"
          ],
          "name": "stdout"
        }
      ]
    },
    {
      "cell_type": "markdown",
      "metadata": {
        "id": "6jsYyD0Ulsz5"
      },
      "source": [
        "The reason it works is that when performing the operation, the scalar `b` is multiplied in the first dimension so it has the same number of entries as `a`:"
      ],
      "id": "6jsYyD0Ulsz5"
    },
    {
      "cell_type": "code",
      "metadata": {
        "id": "HMdnI60kl35L"
      },
      "source": [
        "# Given vector a\n",
        "a = [a1, a2, a3]\n",
        "\n",
        "# Given scalar b\n",
        "b\n",
        "\n",
        "# Scalar b becomes vector b in broadcasting, through duplication\n",
        "b = [b1, b2, b3]\n",
        "\n",
        "# The 2 vectors can then be operated on directly\n",
        "c = a + b\n",
        "c = [a1 + b1, a2 + b2, a3 + b3]"
      ],
      "id": "HMdnI60kl35L",
      "execution_count": null,
      "outputs": []
    },
    {
      "cell_type": "markdown",
      "metadata": {
        "id": "ez70xRPymKVs"
      },
      "source": [
        "##### **Broadcast Limitations**\n",
        "\n",
        "Arithmetic, including broadcasting, can only be performed when the shape of each dimension in the arrays are equal or one has the dimension size of 1. The dimensions are considered in reverse order, starting with the trailing dimension; for example, looking at columns before rows in a two-dimensional case.\n",
        "\n",
        "Therefore, the comparison between a 2-dimensional array `A` with 2 rows and 3 columns and a vector `b` with 3 elements:"
      ],
      "id": "ez70xRPymKVs"
    },
    {
      "cell_type": "code",
      "metadata": {
        "id": "KkmCmzMQmuKX",
        "outputId": "bfdf70c6-a3d2-49ed-f776-f7a1ac215ed3",
        "colab": {
          "base_uri": "https://localhost:8080/"
        }
      },
      "source": [
        "A = array([[0, 0, 0],\n",
        "           [0, 0, 0]])\n",
        "\n",
        "b = array([0, 0, 0])\n",
        "\n",
        "print(A.shape)\n",
        "print(b.shape)"
      ],
      "id": "KkmCmzMQmuKX",
      "execution_count": 19,
      "outputs": [
        {
          "output_type": "stream",
          "text": [
            "(2, 3)\n",
            "(3,)\n"
          ],
          "name": "stdout"
        }
      ]
    },
    {
      "cell_type": "markdown",
      "metadata": {
        "id": "CIvgz6wRm9Br"
      },
      "source": [
        "is considered as (note the last shape entry, the column, considered):"
      ],
      "id": "CIvgz6wRm9Br"
    },
    {
      "cell_type": "code",
      "metadata": {
        "id": "WShJ3MeynE6y"
      },
      "source": [
        "# A.shape = (2 x 3)\n",
        "# b.shape = (1 x 3)"
      ],
      "id": "WShJ3MeynE6y",
      "execution_count": null,
      "outputs": []
    },
    {
      "cell_type": "markdown",
      "metadata": {
        "id": "nRSrZHy7nWVA"
      },
      "source": [
        "This is also okay with a scalar, since it's a 1-dimensional array:"
      ],
      "id": "nRSrZHy7nWVA"
    },
    {
      "cell_type": "code",
      "metadata": {
        "id": "lMnTcbC7ncJK"
      },
      "source": [
        "# A.shape = (2 x 3)\n",
        "# b.shape = (1) or (1, 1)"
      ],
      "id": "lMnTcbC7ncJK",
      "execution_count": null,
      "outputs": []
    },
    {
      "cell_type": "markdown",
      "metadata": {
        "id": "gL3yhPmDnfY3"
      },
      "source": [
        "But the following will throw an error, due to mismatched columns:"
      ],
      "id": "gL3yhPmDnfY3"
    },
    {
      "cell_type": "code",
      "metadata": {
        "id": "yxldKakSn_I4",
        "outputId": "5f441e57-3d1c-4dcd-b8b1-7224dd4c0487",
        "colab": {
          "base_uri": "https://localhost:8080/"
        }
      },
      "source": [
        "# A.shape = (2 x 3)\n",
        "A = array([[0, 0, 0],\n",
        "           [0, 0, 0]])\n",
        "\n",
        "# b.shape = (1 x 2)\n",
        "b = array([0, 0])\n",
        "\n",
        "try:\n",
        "  C = A + b\n",
        "except ValueError:\n",
        "  pretty_log(\"These arrays cannot be broadcast due to their shape\", \"error\")\n",
        "  print(A.shape)\n",
        "  print(b.shape)"
      ],
      "id": "yxldKakSn_I4",
      "execution_count": 21,
      "outputs": [
        {
          "output_type": "stream",
          "text": [
            "\n",
            "\u001b[31m#==== These arrays cannot be broadcast due to their shape ====#\u001b[0m\n",
            "\n",
            "(2, 3)\n",
            "(2,)\n"
          ],
          "name": "stdout"
        }
      ]
    },
    {
      "cell_type": "markdown",
      "metadata": {
        "id": "ogtsbhh5sk5v"
      },
      "source": [
        "#### **A Note on Dimensional Manipulation**"
      ],
      "id": "ogtsbhh5sk5v"
    },
    {
      "cell_type": "markdown",
      "metadata": {
        "id": "EMOV5xOWrvpc"
      },
      "source": [
        "We can manipulate the dimensions of a Numpy array be using `squeeze` and `unsqueeze`, which will reduce or add dimensions respectively."
      ],
      "id": "EMOV5xOWrvpc"
    },
    {
      "cell_type": "code",
      "metadata": {
        "id": "ym5ziX8Gr5_D",
        "outputId": "74c3f738-a328-40b7-9e99-fa0b6efffb8d",
        "colab": {
          "base_uri": "https://localhost:8080/"
        }
      },
      "source": [
        "c = tensor([10.,20,30])\n",
        "\n",
        "print(c)\n",
        "print(c.shape)"
      ],
      "id": "ym5ziX8Gr5_D",
      "execution_count": 34,
      "outputs": [
        {
          "output_type": "stream",
          "text": [
            "tensor([10., 20., 30.])\n",
            "torch.Size([3])\n"
          ],
          "name": "stdout"
        }
      ]
    },
    {
      "cell_type": "code",
      "metadata": {
        "id": "VElgNlSCr_HG",
        "outputId": "799f5faf-9ff7-4f0d-fcda-b4cf642618dc",
        "colab": {
          "base_uri": "https://localhost:8080/"
        }
      },
      "source": [
        "d = c.unsqueeze(0)\n",
        "\n",
        "print(d)\n",
        "print(d.shape)"
      ],
      "id": "VElgNlSCr_HG",
      "execution_count": 35,
      "outputs": [
        {
          "output_type": "stream",
          "text": [
            "tensor([[10., 20., 30.]])\n",
            "torch.Size([1, 3])\n"
          ],
          "name": "stdout"
        }
      ]
    },
    {
      "cell_type": "code",
      "metadata": {
        "id": "raBp0jqwsOfz",
        "outputId": "ff2ade7e-bd04-4c7d-8d67-377d3c67150a",
        "colab": {
          "base_uri": "https://localhost:8080/"
        }
      },
      "source": [
        "e = c.unsqueeze(1)\n",
        "\n",
        "print(e)\n",
        "print(e.shape)"
      ],
      "id": "raBp0jqwsOfz",
      "execution_count": 36,
      "outputs": [
        {
          "output_type": "stream",
          "text": [
            "tensor([[10.],\n",
            "        [20.],\n",
            "        [30.]])\n",
            "torch.Size([3, 1])\n"
          ],
          "name": "stdout"
        }
      ]
    },
    {
      "cell_type": "markdown",
      "metadata": {
        "id": "h4fXCk9ytHsz"
      },
      "source": [
        "Using the methods directly is a bit unwieldy, so Pytorch includes a shorthand to perform them inline:"
      ],
      "id": "h4fXCk9ytHsz"
    },
    {
      "cell_type": "code",
      "metadata": {
        "id": "L03ggEhKtQ1v",
        "outputId": "eb6a2660-91a9-490d-ed03-3b06a7b2ce68",
        "colab": {
          "base_uri": "https://localhost:8080/"
        }
      },
      "source": [
        "c.shape, c.unsqueeze(0).shape,c.unsqueeze(1).shape"
      ],
      "id": "L03ggEhKtQ1v",
      "execution_count": 37,
      "outputs": [
        {
          "output_type": "execute_result",
          "data": {
            "text/plain": [
              "(torch.Size([3]), torch.Size([1, 3]), torch.Size([3, 1]))"
            ]
          },
          "metadata": {
            "tags": []
          },
          "execution_count": 37
        }
      ]
    },
    {
      "cell_type": "markdown",
      "metadata": {
        "id": "PkIjrXF8tZ4v"
      },
      "source": [
        "This is done using the `None` keyword in Python:"
      ],
      "id": "PkIjrXF8tZ4v"
    },
    {
      "cell_type": "code",
      "metadata": {
        "id": "bwbZeo6Ytd4r",
        "outputId": "f412c22a-8b94-423c-f468-46b47f282b95",
        "colab": {
          "base_uri": "https://localhost:8080/"
        }
      },
      "source": [
        "c.shape, c[None].shape,c[:,None].shape"
      ],
      "id": "bwbZeo6Ytd4r",
      "execution_count": 38,
      "outputs": [
        {
          "output_type": "execute_result",
          "data": {
            "text/plain": [
              "(torch.Size([3]), torch.Size([1, 3]), torch.Size([3, 1]))"
            ]
          },
          "metadata": {
            "tags": []
          },
          "execution_count": 38
        }
      ]
    },
    {
      "cell_type": "markdown",
      "metadata": {
        "id": "qsDRTFB_pr1v"
      },
      "source": [
        "#### **Matrix_mul with broadcasting**\n"
      ],
      "id": "qsDRTFB_pr1v"
    },
    {
      "cell_type": "code",
      "metadata": {
        "id": "Jzev3ouXpzHm"
      },
      "source": [
        "def matrix_mul(a,b):\n",
        "    ar,ac = a.shape\n",
        "    br,bc = b.shape\n",
        "\n",
        "    assert ac==br\n",
        "    c = torch.zeros(ar, bc)\n",
        "\n",
        "    for i in range(ar):\n",
        "       #c[i,j] = (a[i,:] * b[:,j]).sum() # previous\n",
        "        c[i,:] = (a[i  ].unsqueeze(-1) * b).sum(dim=0)\n",
        "    \n",
        "    return c"
      ],
      "id": "Jzev3ouXpzHm",
      "execution_count": 52,
      "outputs": []
    },
    {
      "cell_type": "code",
      "metadata": {
        "id": "7ehImDNhqI8E",
        "outputId": "842a0117-3be5-4eb4-ec6e-9ccf25357ffa",
        "colab": {
          "base_uri": "https://localhost:8080/"
        }
      },
      "source": [
        "%timeit -n 10 _=matrix_mul(m1, m2)"
      ],
      "id": "7ehImDNhqI8E",
      "execution_count": 53,
      "outputs": [
        {
          "output_type": "stream",
          "text": [
            "10 loops, best of 5: 219 µs per loop\n"
          ],
          "name": "stdout"
        }
      ]
    },
    {
      "cell_type": "code",
      "metadata": {
        "id": "en_-IEuruVCV"
      },
      "source": [
        ""
      ],
      "id": "en_-IEuruVCV",
      "execution_count": null,
      "outputs": []
    }
  ]
}